{
 "cells": [
  {
   "cell_type": "code",
   "execution_count": 4,
   "id": "4179f949-e97e-4ecc-8b61-94f11ba5834a",
   "metadata": {
    "tags": []
   },
   "outputs": [
    {
     "name": "stdout",
     "output_type": "stream",
     "text": [
      "Insert successful: True\n",
      "Number of matching dogs found: 4\n",
      "Dog 1: {'_id': ObjectId('68fca425cdd3939948067b27'), 'rec_num': 4688, 'age_upon_outcome': '2 years', 'animal_id': 'A717073', 'animal_type': 'Dog', 'breed': 'Alaskan Husky', 'color': 'Black/White', 'date_of_birth': '2013-12-01', 'datetime': '2015-12-02 13:33:00', 'monthyear': '2015-12-02T13:33:00', 'name': 'Athena', 'outcome_subtype': '', 'outcome_type': 'Return to Owner', 'sex_upon_outcome': 'Intact Female', 'location_lat': 30.2900290735289, 'location_long': -97.4498771841214, 'age_upon_outcome_in_weeks': 104.509226190476}\n",
      "Dog 2: {'_id': ObjectId('68fca426cdd393994806872f'), 'rec_num': 7772, 'age_upon_outcome': '3 months', 'animal_id': 'A696629', 'animal_type': 'Dog', 'breed': 'Alaskan Husky', 'color': 'Black/Cream', 'date_of_birth': '2014-11-08', 'datetime': '2015-02-09 11:24:00', 'monthyear': '2015-02-09T11:24:00', 'name': 'Ranger', 'outcome_subtype': '', 'outcome_type': 'Return to Owner', 'sex_upon_outcome': 'Neutered Male', 'location_lat': 30.7296648310204, 'location_long': -97.5087770805322, 'age_upon_outcome_in_weeks': 13.3535714285714}\n",
      "Dog 3: {'_id': ObjectId('68fcc46f06dda282c709eaaa'), 'rec_num': 1, 'age_upon_outcome': '1 year', 'animal_id': 'Test12345', 'animal_type': 'Dog', 'breed': 'Alaskan Husky', 'color': 'Black/White', 'date_of_birth': '2024-10-25', 'datetime': '2025-10-25 09:00:00', 'monthyear': '2025-10-25T09:00:00', 'name': 'Max', 'outcome_subtype': 'Foster', 'outcome_type': 'Adoption', 'sex_upon_outcome': 'Neutered Male', 'location_lat': 30.5066578739455, 'location_long': -97.3408780722188, 'age_upon_outcome_in_weeks': 52}\n",
      "Dog 4: {'_id': ObjectId('68fcc59806dda282c709eaac'), 'rec_num': 1, 'age_upon_outcome': '1 year', 'animal_id': 'Test12345', 'animal_type': 'Dog', 'breed': 'Alaskan Husky', 'color': 'Black/White', 'date_of_birth': '2024-10-25', 'datetime': '2025-10-25 09:00:00', 'monthyear': '2025-10-25T09:00:00', 'name': 'Max', 'outcome_subtype': 'Foster', 'outcome_type': 'Adoption', 'sex_upon_outcome': 'Neutered Male', 'location_lat': 30.5066578739455, 'location_long': -97.3408780722188, 'age_upon_outcome_in_weeks': 52}\n"
     ]
    }
   ],
   "source": [
    "# Python Testing Script\n",
    "\n",
    "#TODO: import for your CRUD module\n",
    "from CRUD_Python_Module import AnimalShelter\n",
    "\n",
    "#TODO: Instantiate an instance of your class\n",
    "shelter = AnimalShelter()\n",
    "\n",
    "#TODO: Use your create function create a new record in the aac database\n",
    "new_animal = {\n",
    "    \"rec_num\": 1,\n",
    "    \"age_upon_outcome\": \"1 year\",\n",
    "    \"animal_id\": \"Test12345\",\n",
    "    \"animal_type\": \"Dog\",\n",
    "    \"breed\": \"Alaskan Husky\",\n",
    "    \"color\": \"Black/White\",\n",
    "    \"date_of_birth\": \"2024-10-25\",\n",
    "    \"datetime\": \"2025-10-25 09:00:00\",\n",
    "    \"monthyear\": \"2025-10-25T09:00:00\",\n",
    "    \"name\": \"Max\",\n",
    "    \"outcome_subtype\": \"Foster\",\n",
    "    \"outcome_type\": \"Adoption\",\n",
    "    \"sex_upon_outcome\": \"Neutered Male\",\n",
    "    \"location_lat\": 30.5066578739455,\n",
    "    \"location_long\": -97.3408780722188,\n",
    "    \"age_upon_outcome_in_weeks\": 52\n",
    "}\n",
    "\n",
    "try:\n",
    "    insert_success = shelter.create(new_animal)\n",
    "except Exception as e:\n",
    "    print(f\"Error inserting document: {e}\")\n",
    "    insert_success = False\n",
    "\n",
    "print(\"Insert successful:\", insert_success)\n",
    "\n",
    "#TODO: Use your read funtion to return records from the aac database\n",
    "query = {\"animal_type\": \"Dog\", \"breed\": \"Alaskan Husky\"}\n",
    "results = shelter.read(query)\n",
    "\n",
    "print(f\"Number of matching dogs found: {len(results)}\")\n",
    "for i, animal in enumerate(results[:5]):  # print first 5 results\n",
    "    print(f\"Dog {i+1}: {animal}\")"
   ]
  },
  {
   "cell_type": "code",
   "execution_count": null,
   "id": "28bf00d9-3814-431f-a225-fb7b8bd61067",
   "metadata": {},
   "outputs": [],
   "source": []
  },
  {
   "cell_type": "code",
   "execution_count": null,
   "id": "eba3ea36-56d7-4703-bca6-9f9a4f71b8d2",
   "metadata": {},
   "outputs": [],
   "source": []
  }
 ],
 "metadata": {
  "kernelspec": {
   "display_name": "Python 3 (ipykernel)",
   "language": "python",
   "name": "python3"
  },
  "language_info": {
   "codemirror_mode": {
    "name": "ipython",
    "version": 3
   },
   "file_extension": ".py",
   "mimetype": "text/x-python",
   "name": "python",
   "nbconvert_exporter": "python",
   "pygments_lexer": "ipython3",
   "version": "3.11.2"
  }
 },
 "nbformat": 4,
 "nbformat_minor": 5
}
